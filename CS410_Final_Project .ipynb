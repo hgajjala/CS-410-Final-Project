{
 "cells": [
  {
   "cell_type": "markdown",
   "metadata": {},
   "source": [
    "# Project Overview:( Hasitha Gajjala and Manojith Saha Sardar)\n",
    "Sentiment Analysis Dashboard:\n",
    "Working as part of a huge IT Infrastructure Team for a retail giants in US, we realize the imperative significance of customer feedback data analysis. Handled adeptly, these will not only prove to be a KPI but also the paradigm nurtured will go a long way to improve the decision making process to improve business footprint. Gazing at it from the other side of the table, an end user will always like to have a comprehensive, crisp feedback summary which will aid to their judgment when choosing a particular product/ service(s). That’s exactly where we intend to put forward a cutting edge tool to present the knowledge block.\n",
    "There have been multiple attempts to materialize the exact requirement and there are already few popular web addresses to look forward to but are they crisp enough. While performing a controlled review we noticed that a web user still has to spend a lot of time to go over the text data to attain an understanding to a point where he/ she feels confident enough. We aim to simplify this process by building a dashborad of positive and negative reviews so user can see quickly look and make a decision.\n",
    "We are really excited to venture into a project in putting together sentiment analysis of amazon appliance product reviews \n",
    "A rough outline of how we built the model is as follows:\n",
    "1. Select a group of 8-10 product/service feedback corpus data.\n",
    "2. Perform data cleansing to get rid of inconsistent or confusing sentiments.\n",
    "3. Build a text analytics classifier using different models.\n",
    "4. Compare and contract and pick the best classifier.\n",
    "5. A visualization dashboard that enables users to quickly compare reviews across different products and make decisions."
   ]
  },
  {
   "cell_type": "markdown",
   "metadata": {},
   "source": [
    "# Installation instructions:\n",
    "1. Python 3.6\n",
    "2. Jupyter notebook\n",
    "3. Install scikit-learn\n",
    "4. Install pandas\n",
    "5. Install numpy\n",
    "6. Install matplotlib\n",
    "Standard Python libraries are imported but specifically used pandas for data manipulation and analysis and numpy to support multi dimensional computation."
   ]
  },
  {
   "cell_type": "code",
   "execution_count": 1,
   "metadata": {},
   "outputs": [],
   "source": [
    "import pandas as pd # Make sure to install pandas\n",
    "import numpy as np # Make sure ti install numpy\n",
    "import wordcloud\n",
    "import matplotlib.pyplot as plt\n",
    "import nltk"
   ]
  },
  {
   "cell_type": "code",
   "execution_count": 2,
   "metadata": {},
   "outputs": [],
   "source": [
    "from nltk import word_tokenize\n",
    "from nltk.corpus import stopwords\n",
    "from nltk.stem.wordnet import WordNetLemmatizer\n",
    "from sklearn.metrics import accuracy_score\n",
    "from wordcloud import WordCloud"
   ]
  },
  {
   "cell_type": "markdown",
   "metadata": {},
   "source": [
    "# Data:\n",
    "1. The code below displays customer review data for appliances on Amazon as tsv. Displayed the first 5 top rows for clarity.\n",
    "2. The head of the data frame displays cutomer_id, review-id, product_id, product_parent, product_title, product_category, star_rating etc. But, we are only interested in product_id, star_rating and review_body for our semtiment analysis."
   ]
  },
  {
   "cell_type": "code",
   "execution_count": 3,
   "metadata": {},
   "outputs": [
    {
     "data": {
      "text/html": [
       "<div>\n",
       "<style scoped>\n",
       "    .dataframe tbody tr th:only-of-type {\n",
       "        vertical-align: middle;\n",
       "    }\n",
       "\n",
       "    .dataframe tbody tr th {\n",
       "        vertical-align: top;\n",
       "    }\n",
       "\n",
       "    .dataframe thead th {\n",
       "        text-align: right;\n",
       "    }\n",
       "</style>\n",
       "<table border=\"1\" class=\"dataframe\">\n",
       "  <thead>\n",
       "    <tr style=\"text-align: right;\">\n",
       "      <th></th>\n",
       "      <th>marketplace</th>\n",
       "      <th>customer_id</th>\n",
       "      <th>review_id</th>\n",
       "      <th>product_id</th>\n",
       "      <th>product_parent</th>\n",
       "      <th>product_title</th>\n",
       "      <th>product_category</th>\n",
       "      <th>star_rating</th>\n",
       "      <th>helpful_votes</th>\n",
       "      <th>total_votes</th>\n",
       "      <th>vine</th>\n",
       "      <th>verified_purchase</th>\n",
       "      <th>review_headline</th>\n",
       "      <th>review_body</th>\n",
       "      <th>review_date</th>\n",
       "    </tr>\n",
       "  </thead>\n",
       "  <tbody>\n",
       "    <tr>\n",
       "      <th>0</th>\n",
       "      <td>US</td>\n",
       "      <td>16199106</td>\n",
       "      <td>R203HPW78Z7N4K</td>\n",
       "      <td>B0067WNSZY</td>\n",
       "      <td>633038551</td>\n",
       "      <td>FGGF3032MW Gallery Series 30\" Wide Freestanding Gas Range 5 Sealed Burners Easy Temperature Probe Express-Select Controls One-Touch Self Clean:</td>\n",
       "      <td>Major Appliances</td>\n",
       "      <td>5</td>\n",
       "      <td>0</td>\n",
       "      <td>0</td>\n",
       "      <td>N</td>\n",
       "      <td>Y</td>\n",
       "      <td>If you need a new stove, this is a winner.</td>\n",
       "      <td>What a great stove.  What a wonderful replacement for my sort of antique.  Enjoy it every day.</td>\n",
       "      <td>2015-08-31</td>\n",
       "    </tr>\n",
       "    <tr>\n",
       "      <th>1</th>\n",
       "      <td>US</td>\n",
       "      <td>16374060</td>\n",
       "      <td>R2EAIGVLEALSP3</td>\n",
       "      <td>B002QSXK60</td>\n",
       "      <td>811766671</td>\n",
       "      <td>Best Hand Clothes Wringer</td>\n",
       "      <td>Major Appliances</td>\n",
       "      <td>5</td>\n",
       "      <td>1</td>\n",
       "      <td>1</td>\n",
       "      <td>N</td>\n",
       "      <td>Y</td>\n",
       "      <td>Five Stars</td>\n",
       "      <td>worked great</td>\n",
       "      <td>2015-08-31</td>\n",
       "    </tr>\n",
       "    <tr>\n",
       "      <th>2</th>\n",
       "      <td>US</td>\n",
       "      <td>15322085</td>\n",
       "      <td>R1K1CD73HHLILA</td>\n",
       "      <td>B00EC452R6</td>\n",
       "      <td>345562728</td>\n",
       "      <td>Supco SET184 Thermal Cutoff Kit</td>\n",
       "      <td>Major Appliances</td>\n",
       "      <td>5</td>\n",
       "      <td>0</td>\n",
       "      <td>0</td>\n",
       "      <td>N</td>\n",
       "      <td>Y</td>\n",
       "      <td>Fast Shipping</td>\n",
       "      <td>Part exactly what I needed.  Saved by purchasing myself.</td>\n",
       "      <td>2015-08-31</td>\n",
       "    </tr>\n",
       "    <tr>\n",
       "      <th>3</th>\n",
       "      <td>US</td>\n",
       "      <td>32004835</td>\n",
       "      <td>R2KZBMOFRMYOPO</td>\n",
       "      <td>B00MVVIF2G</td>\n",
       "      <td>563052763</td>\n",
       "      <td>Midea WHS-160RB1 Compact Single Reversible Door Refrigerator and Freezer, 4.4 Cubic Feet, Black</td>\n",
       "      <td>Major Appliances</td>\n",
       "      <td>5</td>\n",
       "      <td>1</td>\n",
       "      <td>1</td>\n",
       "      <td>N</td>\n",
       "      <td>Y</td>\n",
       "      <td>Five Stars</td>\n",
       "      <td>Love my refrigerator! ! Keeps everything  cold..will recommend!</td>\n",
       "      <td>2015-08-31</td>\n",
       "    </tr>\n",
       "    <tr>\n",
       "      <th>4</th>\n",
       "      <td>US</td>\n",
       "      <td>25414497</td>\n",
       "      <td>R6BIZOZY6UD01</td>\n",
       "      <td>B00IY7BNUW</td>\n",
       "      <td>874236579</td>\n",
       "      <td>Avalon Bay Portable Ice Maker</td>\n",
       "      <td>Major Appliances</td>\n",
       "      <td>5</td>\n",
       "      <td>0</td>\n",
       "      <td>0</td>\n",
       "      <td>N</td>\n",
       "      <td>Y</td>\n",
       "      <td>Five Stars</td>\n",
       "      <td>No more running to the store for ice!  Works perfectly.</td>\n",
       "      <td>2015-08-31</td>\n",
       "    </tr>\n",
       "  </tbody>\n",
       "</table>\n",
       "</div>"
      ],
      "text/plain": [
       "  marketplace  customer_id       review_id  product_id  product_parent  \\\n",
       "0  US          16199106     R203HPW78Z7N4K  B0067WNSZY  633038551        \n",
       "1  US          16374060     R2EAIGVLEALSP3  B002QSXK60  811766671        \n",
       "2  US          15322085     R1K1CD73HHLILA  B00EC452R6  345562728        \n",
       "3  US          32004835     R2KZBMOFRMYOPO  B00MVVIF2G  563052763        \n",
       "4  US          25414497     R6BIZOZY6UD01   B00IY7BNUW  874236579        \n",
       "\n",
       "                                                                                                                                     product_title  \\\n",
       "0  FGGF3032MW Gallery Series 30\" Wide Freestanding Gas Range 5 Sealed Burners Easy Temperature Probe Express-Select Controls One-Touch Self Clean:   \n",
       "1  Best Hand Clothes Wringer                                                                                                                         \n",
       "2  Supco SET184 Thermal Cutoff Kit                                                                                                                   \n",
       "3  Midea WHS-160RB1 Compact Single Reversible Door Refrigerator and Freezer, 4.4 Cubic Feet, Black                                                   \n",
       "4  Avalon Bay Portable Ice Maker                                                                                                                     \n",
       "\n",
       "   product_category  star_rating  helpful_votes  total_votes vine  \\\n",
       "0  Major Appliances  5            0              0            N     \n",
       "1  Major Appliances  5            1              1            N     \n",
       "2  Major Appliances  5            0              0            N     \n",
       "3  Major Appliances  5            1              1            N     \n",
       "4  Major Appliances  5            0              0            N     \n",
       "\n",
       "  verified_purchase                             review_headline  \\\n",
       "0  Y                 If you need a new stove, this is a winner.   \n",
       "1  Y                 Five Stars                                   \n",
       "2  Y                 Fast Shipping                                \n",
       "3  Y                 Five Stars                                   \n",
       "4  Y                 Five Stars                                   \n",
       "\n",
       "                                                                                      review_body  \\\n",
       "0  What a great stove.  What a wonderful replacement for my sort of antique.  Enjoy it every day.   \n",
       "1  worked great                                                                                     \n",
       "2  Part exactly what I needed.  Saved by purchasing myself.                                         \n",
       "3  Love my refrigerator! ! Keeps everything  cold..will recommend!                                  \n",
       "4  No more running to the store for ice!  Works perfectly.                                          \n",
       "\n",
       "  review_date  \n",
       "0  2015-08-31  \n",
       "1  2015-08-31  \n",
       "2  2015-08-31  \n",
       "3  2015-08-31  \n",
       "4  2015-08-31  "
      ]
     },
     "execution_count": 3,
     "metadata": {},
     "output_type": "execute_result"
    }
   ],
   "source": [
    "pd.set_option('display.max_colwidth', -1)\n",
    "df = pd.read_csv('C:\\\\General\\\\Big Data\\\\MCS-DS\\\\CS 410 Text Information Systems\\\\Final Project\\\\amazon_reviews_appliances.tsv',sep='\\t',)\n",
    "df.head()"
   ]
  },
  {
   "cell_type": "markdown",
   "metadata": {},
   "source": [
    "# Data Clean-up and Label:\n",
    "1. Cleaned up the data set, by dropping any rows that have missing values.\n",
    "2. Added a new column called Sentiment Label.\n",
    "3. The star_rating column has values from 1 to 5, and we removed all scores that is equal to 3 as nuetral as it did not add any useful information.\n",
    "4. Classified the data based on labels as Positive or negative comments into this new column based on the following condition: if a customer rating >3, its labeled as 1.0(positive) and if a customer rating is <3, its labeled as 0.0(negative).\n",
    "5. The code below does the folowing\n"
   ]
  },
  {
   "cell_type": "code",
   "execution_count": 4,
   "metadata": {},
   "outputs": [
    {
     "data": {
      "text/html": [
       "<div>\n",
       "<style scoped>\n",
       "    .dataframe tbody tr th:only-of-type {\n",
       "        vertical-align: middle;\n",
       "    }\n",
       "\n",
       "    .dataframe tbody tr th {\n",
       "        vertical-align: top;\n",
       "    }\n",
       "\n",
       "    .dataframe thead th {\n",
       "        text-align: right;\n",
       "    }\n",
       "</style>\n",
       "<table border=\"1\" class=\"dataframe\">\n",
       "  <thead>\n",
       "    <tr style=\"text-align: right;\">\n",
       "      <th></th>\n",
       "      <th>marketplace</th>\n",
       "      <th>customer_id</th>\n",
       "      <th>review_id</th>\n",
       "      <th>product_id</th>\n",
       "      <th>product_parent</th>\n",
       "      <th>product_title</th>\n",
       "      <th>product_category</th>\n",
       "      <th>star_rating</th>\n",
       "      <th>helpful_votes</th>\n",
       "      <th>total_votes</th>\n",
       "      <th>vine</th>\n",
       "      <th>verified_purchase</th>\n",
       "      <th>review_headline</th>\n",
       "      <th>review_body</th>\n",
       "      <th>review_date</th>\n",
       "      <th>Sentiment Label</th>\n",
       "    </tr>\n",
       "  </thead>\n",
       "  <tbody>\n",
       "    <tr>\n",
       "      <th>0</th>\n",
       "      <td>US</td>\n",
       "      <td>16199106</td>\n",
       "      <td>R203HPW78Z7N4K</td>\n",
       "      <td>B0067WNSZY</td>\n",
       "      <td>633038551</td>\n",
       "      <td>FGGF3032MW Gallery Series 30\" Wide Freestanding Gas Range 5 Sealed Burners Easy Temperature Probe Express-Select Controls One-Touch Self Clean:</td>\n",
       "      <td>Major Appliances</td>\n",
       "      <td>5</td>\n",
       "      <td>0</td>\n",
       "      <td>0</td>\n",
       "      <td>N</td>\n",
       "      <td>Y</td>\n",
       "      <td>If you need a new stove, this is a winner.</td>\n",
       "      <td>What a great stove.  What a wonderful replacement for my sort of antique.  Enjoy it every day.</td>\n",
       "      <td>2015-08-31</td>\n",
       "      <td>1.0</td>\n",
       "    </tr>\n",
       "    <tr>\n",
       "      <th>1</th>\n",
       "      <td>US</td>\n",
       "      <td>16374060</td>\n",
       "      <td>R2EAIGVLEALSP3</td>\n",
       "      <td>B002QSXK60</td>\n",
       "      <td>811766671</td>\n",
       "      <td>Best Hand Clothes Wringer</td>\n",
       "      <td>Major Appliances</td>\n",
       "      <td>5</td>\n",
       "      <td>1</td>\n",
       "      <td>1</td>\n",
       "      <td>N</td>\n",
       "      <td>Y</td>\n",
       "      <td>Five Stars</td>\n",
       "      <td>worked great</td>\n",
       "      <td>2015-08-31</td>\n",
       "      <td>1.0</td>\n",
       "    </tr>\n",
       "    <tr>\n",
       "      <th>2</th>\n",
       "      <td>US</td>\n",
       "      <td>15322085</td>\n",
       "      <td>R1K1CD73HHLILA</td>\n",
       "      <td>B00EC452R6</td>\n",
       "      <td>345562728</td>\n",
       "      <td>Supco SET184 Thermal Cutoff Kit</td>\n",
       "      <td>Major Appliances</td>\n",
       "      <td>5</td>\n",
       "      <td>0</td>\n",
       "      <td>0</td>\n",
       "      <td>N</td>\n",
       "      <td>Y</td>\n",
       "      <td>Fast Shipping</td>\n",
       "      <td>Part exactly what I needed.  Saved by purchasing myself.</td>\n",
       "      <td>2015-08-31</td>\n",
       "      <td>1.0</td>\n",
       "    </tr>\n",
       "    <tr>\n",
       "      <th>3</th>\n",
       "      <td>US</td>\n",
       "      <td>32004835</td>\n",
       "      <td>R2KZBMOFRMYOPO</td>\n",
       "      <td>B00MVVIF2G</td>\n",
       "      <td>563052763</td>\n",
       "      <td>Midea WHS-160RB1 Compact Single Reversible Door Refrigerator and Freezer, 4.4 Cubic Feet, Black</td>\n",
       "      <td>Major Appliances</td>\n",
       "      <td>5</td>\n",
       "      <td>1</td>\n",
       "      <td>1</td>\n",
       "      <td>N</td>\n",
       "      <td>Y</td>\n",
       "      <td>Five Stars</td>\n",
       "      <td>Love my refrigerator! ! Keeps everything  cold..will recommend!</td>\n",
       "      <td>2015-08-31</td>\n",
       "      <td>1.0</td>\n",
       "    </tr>\n",
       "    <tr>\n",
       "      <th>4</th>\n",
       "      <td>US</td>\n",
       "      <td>25414497</td>\n",
       "      <td>R6BIZOZY6UD01</td>\n",
       "      <td>B00IY7BNUW</td>\n",
       "      <td>874236579</td>\n",
       "      <td>Avalon Bay Portable Ice Maker</td>\n",
       "      <td>Major Appliances</td>\n",
       "      <td>5</td>\n",
       "      <td>0</td>\n",
       "      <td>0</td>\n",
       "      <td>N</td>\n",
       "      <td>Y</td>\n",
       "      <td>Five Stars</td>\n",
       "      <td>No more running to the store for ice!  Works perfectly.</td>\n",
       "      <td>2015-08-31</td>\n",
       "      <td>1.0</td>\n",
       "    </tr>\n",
       "  </tbody>\n",
       "</table>\n",
       "</div>"
      ],
      "text/plain": [
       "  marketplace  customer_id       review_id  product_id  product_parent  \\\n",
       "0  US          16199106     R203HPW78Z7N4K  B0067WNSZY  633038551        \n",
       "1  US          16374060     R2EAIGVLEALSP3  B002QSXK60  811766671        \n",
       "2  US          15322085     R1K1CD73HHLILA  B00EC452R6  345562728        \n",
       "3  US          32004835     R2KZBMOFRMYOPO  B00MVVIF2G  563052763        \n",
       "4  US          25414497     R6BIZOZY6UD01   B00IY7BNUW  874236579        \n",
       "\n",
       "                                                                                                                                     product_title  \\\n",
       "0  FGGF3032MW Gallery Series 30\" Wide Freestanding Gas Range 5 Sealed Burners Easy Temperature Probe Express-Select Controls One-Touch Self Clean:   \n",
       "1  Best Hand Clothes Wringer                                                                                                                         \n",
       "2  Supco SET184 Thermal Cutoff Kit                                                                                                                   \n",
       "3  Midea WHS-160RB1 Compact Single Reversible Door Refrigerator and Freezer, 4.4 Cubic Feet, Black                                                   \n",
       "4  Avalon Bay Portable Ice Maker                                                                                                                     \n",
       "\n",
       "   product_category  star_rating  helpful_votes  total_votes vine  \\\n",
       "0  Major Appliances  5            0              0            N     \n",
       "1  Major Appliances  5            1              1            N     \n",
       "2  Major Appliances  5            0              0            N     \n",
       "3  Major Appliances  5            1              1            N     \n",
       "4  Major Appliances  5            0              0            N     \n",
       "\n",
       "  verified_purchase                             review_headline  \\\n",
       "0  Y                 If you need a new stove, this is a winner.   \n",
       "1  Y                 Five Stars                                   \n",
       "2  Y                 Fast Shipping                                \n",
       "3  Y                 Five Stars                                   \n",
       "4  Y                 Five Stars                                   \n",
       "\n",
       "                                                                                      review_body  \\\n",
       "0  What a great stove.  What a wonderful replacement for my sort of antique.  Enjoy it every day.   \n",
       "1  worked great                                                                                     \n",
       "2  Part exactly what I needed.  Saved by purchasing myself.                                         \n",
       "3  Love my refrigerator! ! Keeps everything  cold..will recommend!                                  \n",
       "4  No more running to the store for ice!  Works perfectly.                                          \n",
       "\n",
       "  review_date  Sentiment Label  \n",
       "0  2015-08-31  1.0              \n",
       "1  2015-08-31  1.0              \n",
       "2  2015-08-31  1.0              \n",
       "3  2015-08-31  1.0              \n",
       "4  2015-08-31  1.0              "
      ]
     },
     "execution_count": 4,
     "metadata": {},
     "output_type": "execute_result"
    }
   ],
   "source": [
    "df['Sentiment Label'] = np.where(df['star_rating'] > 3.0, 1.0, 0.0)\n",
    "df.head()"
   ]
  },
  {
   "cell_type": "markdown",
   "metadata": {},
   "source": [
    "# Training and Testing dataset: \n",
    "1. The code below spilts the data into training and test sets. 80% is the training data(X_train) and 20% is the test set(X_test).\n",
    "2. The code also shows the first entry in the train set and the total no of records in train array(77512) as train shape."
   ]
  },
  {
   "cell_type": "code",
   "execution_count": 5,
   "metadata": {},
   "outputs": [
    {
     "name": "stdout",
     "output_type": "stream",
     "text": [
      "X_train first entry: \n",
      "\n",
      " What a great stove.  What a wonderful replacement for my sort of antique.  Enjoy it every day.\n",
      "\n",
      "\n",
      "X_train shape:  (77512,)\n"
     ]
    }
   ],
   "source": [
    "from sklearn.model_selection import train_test_split # Split the data into train and test data sets\n",
    "X_train, X_test, y_train, y_test = train_test_split(df['review_body'].fillna(' '), df['Sentiment Label'], test_size=0.2, random_state =42 )\n",
    "print('X_train first entry: \\n\\n', X_train[0])\n",
    "print('\\n\\nX_train shape: ', X_train.shape)"
   ]
  },
  {
   "cell_type": "markdown",
   "metadata": {},
   "source": [
    "# Bags-of-words:\n",
    "1. Programs/Computational units cannnot comprehend English. Hence, its essential to convert a collection of text documents into a matrix of token counts.\n",
    "2. Bag of words is regarded as the most simplest representation as it ignores structure and meaning but just counts how often each word occurs.\n",
    "3. CountVectorizer allows us to use the bags-of-words approach, by converting a collection of text documents into a matrix of tokens by counting the frequency of a word in the corpus.\n",
    "4. The below code converts the text into vectors using CountVectorizer from sklearn that different classification algorithms can understand these vector represenation and process the data. \n",
    "5. Also, filtered stop words like a, and, the etc using stop_words function and cleaned up and pressed the data by getting rid of digits, hypens and special characters."
   ]
  },
  {
   "cell_type": "code",
   "execution_count": 6,
   "metadata": {},
   "outputs": [
    {
     "data": {
      "text/plain": [
       "CountVectorizer(analyzer='word', binary=False, decode_error='strict',\n",
       "        dtype=<class 'numpy.int64'>, encoding='utf-8', input='content',\n",
       "        lowercase=True, max_df=1.0, max_features=None, min_df=1,\n",
       "        ngram_range=(1, 1), preprocessor=None, stop_words='english',\n",
       "        strip_accents=None, token_pattern='\\\\b[^\\\\d\\\\_\\\\-\\\\W]+\\\\b',\n",
       "        tokenizer=None, vocabulary=None)"
      ]
     },
     "execution_count": 6,
     "metadata": {},
     "output_type": "execute_result"
    }
   ],
   "source": [
    "from sklearn.feature_extraction.text import CountVectorizer\n",
    "vect = CountVectorizer(stop_words='english',token_pattern=r'\\b[^\\d\\_\\-\\W]+\\b').fit(X_train)\n",
    "vect"
   ]
  },
  {
   "cell_type": "markdown",
   "metadata": {},
   "source": [
    "# Display top 20:\n",
    "1. CountVectorizer tokenizes the string, by extracting words of at least 2 letters or numbers, separated by word boundaries, it then converts everything to lowercase and builds a vocabulary using these tokens.\n",
    "2. Displaying top 20 features extracted from CountVectorizer so we can get a small sense of what these words are made up of."
   ]
  },
  {
   "cell_type": "code",
   "execution_count": 7,
   "metadata": {
    "scrolled": true
   },
   "outputs": [
    {
     "data": {
      "text/plain": [
       "['aa',\n",
       " 'aaa',\n",
       " 'aaaa',\n",
       " 'aaaaa',\n",
       " 'aaaand',\n",
       " 'aaaexcellent',\n",
       " 'aaah',\n",
       " 'aaargghhh',\n",
       " 'aacute',\n",
       " 'aafes',\n",
       " 'aah',\n",
       " 'aamazon',\n",
       " 'aand',\n",
       " 'aappliance',\n",
       " 'aare',\n",
       " 'aaron',\n",
       " 'aars',\n",
       " 'ab',\n",
       " 'aback',\n",
       " 'abaker']"
      ]
     },
     "execution_count": 7,
     "metadata": {},
     "output_type": "execute_result"
    }
   ],
   "source": [
    "vect.get_feature_names()[:20]\n"
   ]
  },
  {
   "cell_type": "markdown",
   "metadata": {},
   "source": [
    "# Word Cloud:\n",
    "Used word cloud below to show the size of a word in the text with respect to its frequency."
   ]
  },
  {
   "cell_type": "code",
   "execution_count": 8,
   "metadata": {},
   "outputs": [
    {
     "data": {
      "image/png": "[encoded data removed]",
      "text/plain": [
       "<matplotlib.figure.Figure at 0x20e9231c828>"
      ]
     },
     "metadata": {},
     "output_type": "display_data"
    }
   ],
   "source": [
    "cloud = wordcloud.WordCloud(background_color='gray', max_font_size=60,max_words=1000,\n",
    "                                relative_scaling=1).generate(' '.join(vect.get_feature_names()))\n",
    "fig = plt.figure(figsize=(20, 10))\n",
    "plt.axis('off')\n",
    "plt.imshow(cloud);"
   ]
  },
  {
   "cell_type": "markdown",
   "metadata": {},
   "source": [
    "# Total feature Length:\n",
    "To get a sense of total no of features in the corpus after processing the corpus with bag of words representation."
   ]
  },
  {
   "cell_type": "code",
   "execution_count": 9,
   "metadata": {},
   "outputs": [
    {
     "data": {
      "text/plain": [
       "38110"
      ]
     },
     "execution_count": 9,
     "metadata": {},
     "output_type": "execute_result"
    }
   ],
   "source": [
    "len(vect.get_feature_names()) # Total no of features in the corpus"
   ]
  },
  {
   "cell_type": "markdown",
   "metadata": {},
   "source": [
    "# Sparse Matrix:\n",
    "1. Its time to transform our training set into term matrix representation which is nothing but bag-of-word representtaion of the training set.\n",
    "2. The result is stored in a SciPy sparse matrix, where each row corresponds to a document, and each column is a word from our training vocabulary.\n",
    "The code below shows the sparse matrix of the training set with no of stored elements in it."
   ]
  },
  {
   "cell_type": "code",
   "execution_count": 10,
   "metadata": {},
   "outputs": [
    {
     "data": {
      "text/plain": [
       "<77512x38110 sparse matrix of type '<class 'numpy.int64'>'\n",
       "\twith 2388335 stored elements in Compressed Sparse Row format>"
      ]
     },
     "execution_count": 10,
     "metadata": {},
     "output_type": "execute_result"
    }
   ],
   "source": [
    "X_train_vectorized = vect.transform(X_train)\n",
    "X_train_vectorized"
   ]
  },
  {
   "cell_type": "markdown",
   "metadata": {},
   "source": [
    "# Logistic Regression \n",
    "1. Bag of words representation and our labeled data is now ready and we are all set to train our model using logistic regression. \n",
    "2. Logistic regression is beleived to work well for high dimensional sparse matrix. Hence, we will train the Logistic regression classifier to predict the sentiment of the text. "
   ]
  },
  {
   "cell_type": "code",
   "execution_count": 11,
   "metadata": {},
   "outputs": [],
   "source": [
    "from sklearn.linear_model import LogisticRegression\n",
    "model = LogisticRegression()\n",
    "model.fit(X_train_vectorized, y_train) # Train and fit the model using logistic regression\n",
    "predictions = model.predict(vect.transform(X_test)) # Predict the labels on test set"
   ]
  },
  {
   "cell_type": "markdown",
   "metadata": {},
   "source": [
    "Confusion Matrix and AUC:\n",
    "Its essential to measure the performance of an algorithm. AUC abbrevated as Area Under curve is used not only used to measure the performance of an algorithm but also used to compare different cassifiers \n",
    "in order to determine which of the models predicts the classes best. Its measured as ROC curves where in true positive rates are plotted on y-axis and False positive rate on x-axis. The greater the value closer to 1, the better the model."
   ]
  },
  {
   "cell_type": "code",
   "execution_count": 12,
   "metadata": {},
   "outputs": [
    {
     "name": "stdout",
     "output_type": "stream",
     "text": [
      "[[ 4972  1427]\n",
      " [  817 12163]]\n",
      "AUC:  0.8570267082371066\n",
      "Accuracy: 88.42%\n"
     ]
    }
   ],
   "source": [
    "from sklearn.metrics import roc_auc_score \n",
    "from sklearn.metrics import confusion_matrix \n",
    "results = confusion_matrix(y_test, predictions) # Calculate confusion matrix and display AUC and Accuracy.\n",
    "print(results)\n",
    "print('AUC: ', roc_auc_score(y_test, predictions))\n",
    "print('Accuracy: %.2f%%' % (accuracy_score(y_test, predictions) * 100))"
   ]
  },
  {
   "cell_type": "markdown",
   "metadata": {},
   "source": [
    "In order to better understand how our model makes these predictions, we can use the coefficients for each feature (a word) to determine its weight in terms of positivity and negativity."
   ]
  },
  {
   "cell_type": "code",
   "execution_count": 13,
   "metadata": {},
   "outputs": [
    {
     "name": "stdout",
     "output_type": "stream",
     "text": [
      "Smallest Coefs: \n",
      "['disappointing' 'worst' 'unacceptable' 'terrible' 'junk' 'touched'\n",
      " 'disappointment' 'poorly' 'sloppy' 'disappointed']\n",
      "\n",
      "Largest Coefs: \n",
      "['saved' 'loves' 'excellent' 'sparkling' 'perfect' 'hardest' 'beats'\n",
      " 'softer' 'glitch' 'perfectly']\n",
      "\n"
     ]
    }
   ],
   "source": [
    "feature_names = np.array(vect.get_feature_names())  #get the smallest and highest co-efficients.\n",
    "sorted_coef_index = model.coef_[0].argsort()\n",
    "print('Smallest Coefs: \\n{}\\n'.format(feature_names[sorted_coef_index[:10]]))\n",
    "print('Largest Coefs: \\n{}\\n'.format(feature_names[sorted_coef_index[:-11:-1]]))"
   ]
  },
  {
   "cell_type": "markdown",
   "metadata": {},
   "source": [
    "By looking at the 10 smallest and 10 largest coefficients, we can see the model has predicted words like 'touched' as negative and 'hardest' and 'glitch' as positive. Which means, there is room to improve."
   ]
  },
  {
   "cell_type": "markdown",
   "metadata": {},
   "source": [
    "Example to show how this model works"
   ]
  },
  {
   "cell_type": "code",
   "execution_count": 14,
   "metadata": {},
   "outputs": [
    {
     "name": "stdout",
     "output_type": "stream",
     "text": [
      "[0.]\n"
     ]
    }
   ],
   "source": [
    "# Example to show how this model works\n",
    "print(model.predict(vect.transform(['The product is not bad, but I would not buy it again'])))"
   ]
  },
  {
   "cell_type": "markdown",
   "metadata": {},
   "source": [
    "# Logistic Regression with TF-IDF weights\n",
    "1. The model can be improved using TF-IDF weighting by penalizing commonly occuring words such as \"the\", \"a\" and \"is\". If we feed the classifier with these highly frequent common terms, the rare terms which will add more value to our sentiment will be over shadowed. Hence, we will use TF-IDF that will allow us to weight terms based on how important they are to a document.\n",
    "2. To accomplish that we have intialized TF-IDF vectorizer and fit our training data. We gave min_df=5, which means we will remove any words from our vocabulary that appear in less than five documents."
   ]
  },
  {
   "cell_type": "code",
   "execution_count": 15,
   "metadata": {},
   "outputs": [
    {
     "data": {
      "text/plain": [
       "14040"
      ]
     },
     "execution_count": 15,
     "metadata": {},
     "output_type": "execute_result"
    }
   ],
   "source": [
    "from sklearn.feature_extraction.text import TfidfVectorizer \n",
    "# This vectorizer breaks text into single words and then calculates the TF-IDF representation.\n",
    "vect = TfidfVectorizer(min_df = 5).fit(X_train)\n",
    "len(vect.get_feature_names())"
   ]
  },
  {
   "cell_type": "markdown",
   "metadata": {},
   "source": [
    "Fit the model and predict"
   ]
  },
  {
   "cell_type": "code",
   "execution_count": 16,
   "metadata": {},
   "outputs": [],
   "source": [
    "X_train_vectorized = vect.transform(X_train) # Train and fit the training data using TF-IDF\n",
    "model_tfidf = LogisticRegression()\n",
    "model_tfidf.fit(X_train_vectorized, y_train)\n",
    "predictions = model_tfidf.predict(vect.transform(X_test)) # Predict the labels on new set."
   ]
  },
  {
   "cell_type": "markdown",
   "metadata": {},
   "source": [
    "Confusion Matrix and AUC (Logistic regression with TF-IDF weights)"
   ]
  },
  {
   "cell_type": "code",
   "execution_count": 17,
   "metadata": {},
   "outputs": [
    {
     "name": "stdout",
     "output_type": "stream",
     "text": [
      "[[ 5177  1222]\n",
      " [  764 12216]]\n",
      "AUC:  0.8750864385349116\n",
      "Accuracy: 89.75%\n"
     ]
    }
   ],
   "source": [
    "results = confusion_matrix(y_test, predictions) # Calculate confusion matrix and display AUC and Accuracy\n",
    "print(results)\n",
    "print('AUC: ', roc_auc_score(y_test, predictions))\n",
    "print('Accuracy: %.2f%%' % (accuracy_score(y_test, predictions) * 100))"
   ]
  },
  {
   "cell_type": "markdown",
   "metadata": {},
   "source": [
    "Using the following code, we are able to obtain a list of features with the smallest TF-IDF that either commonly appeared across all reviews or only appeared rarely in very long reviews and a list of features with the largest TF–IDF contains words which appeared frequently in a review, but did not appear commonly across all reviews. But, still these words do not make sense and hence there is a possibility to missclassify the data with False positives/False negatives."
   ]
  },
  {
   "cell_type": "code",
   "execution_count": 18,
   "metadata": {},
   "outputs": [
    {
     "name": "stdout",
     "output_type": "stream",
     "text": [
      "Smallest TF-IDF: \n",
      "['nitp666suc' 'spin_prod_975580612' 'spin_prod_975587312' 'assets' 'rsh1'\n",
      " 'isfor' 'worldwide' 'hypothetically' 'reoccurred' 'f8']\n",
      "\n",
      "Largest TF-IDF: \n",
      "['installed' 'noisey' 'nice' 'funny' 'est' 'bad' 'amazing' 'very'\n",
      " 'filters' 'worthless']\n",
      "\n"
     ]
    }
   ],
   "source": [
    "feature_names = np.array(vect.get_feature_names()) # get the smallest and highest co-efficients.\n",
    "sorted_tfidf_index = X_train_vectorized.max(0).toarray()[0].argsort()\n",
    "print('Smallest TF-IDF: \\n{}\\n'.format(feature_names[sorted_tfidf_index[:10]]))\n",
    "print('Largest TF-IDF: \\n{}\\n'.format(feature_names[sorted_tfidf_index[:-11:-1]]))"
   ]
  },
  {
   "cell_type": "markdown",
   "metadata": {},
   "source": [
    "Lets see with an example to show how this model works"
   ]
  },
  {
   "cell_type": "code",
   "execution_count": 19,
   "metadata": {},
   "outputs": [
    {
     "name": "stdout",
     "output_type": "stream",
     "text": [
      "[0. 1.]\n"
     ]
    }
   ],
   "source": [
    "# Example to show how this model works\n",
    "print(model_tfidf.predict(vect.transform(['The product is not good, I will never buy it again','The product is good, I will buy it again'])))"
   ]
  },
  {
   "cell_type": "markdown",
   "metadata": {},
   "source": [
    "# Observation:\n",
    "Using Logistic regression with TF-IDF weights over just Logistic regression has improved not only improved the True positive but also the model accuaracy and AUC."
   ]
  },
  {
   "cell_type": "markdown",
   "metadata": {},
   "source": [
    "# Logistic regression with n grams\n",
    "1. Logistic regression with TF-IDF does not model the data well  with the coefficients as you see above and hence there is a possibility to misclassify the prediction increasing the False positive rates.\n",
    "2. We can use n-grams to improve the classification accuracy. It improves the model by taking bigrams count pairs of adjacent words and could give us better judgement over features such as 'bad' versus 'not bad'(somewhat neural sentiment). Thus, we are refitting our training set specifying a minimum document frequency of 5 and extractng 1-grams and 2-grams."
   ]
  },
  {
   "cell_type": "markdown",
   "metadata": {},
   "source": [
    "Since this is n grams model it has many features to work with as you see below."
   ]
  },
  {
   "cell_type": "code",
   "execution_count": 20,
   "metadata": {},
   "outputs": [
    {
     "data": {
      "text/plain": [
       "147157"
      ]
     },
     "execution_count": 20,
     "metadata": {},
     "output_type": "execute_result"
    }
   ],
   "source": [
    "# This vectorizer breaks text into single words and bi-grams and then calculates the TF-IDF representation\n",
    "vect = CountVectorizer(min_df = 5, ngram_range = (1,2)).fit(X_train)\n",
    "X_train_vectorized = vect.transform(X_train)\n",
    "len(vect.get_feature_names())"
   ]
  },
  {
   "cell_type": "markdown",
   "metadata": {},
   "source": [
    "Fit the model and predict with n grams"
   ]
  },
  {
   "cell_type": "code",
   "execution_count": 21,
   "metadata": {},
   "outputs": [],
   "source": [
    "model_ngram = LogisticRegression() # Train and fit the model using Logistic Rgression TF-IDF weights\n",
    "model_ngram.fit(X_train_vectorized, y_train)\n",
    "predictions = model_ngram.predict(vect.transform(X_test))"
   ]
  },
  {
   "cell_type": "markdown",
   "metadata": {},
   "source": [
    "Confusion Matrix and AUC (Logistic regression with n grams)"
   ]
  },
  {
   "cell_type": "code",
   "execution_count": 22,
   "metadata": {},
   "outputs": [
    {
     "name": "stdout",
     "output_type": "stream",
     "text": [
      "[[ 5361  1038]\n",
      " [  727 12253]]\n",
      "AUC:  0.8908889546252773\n",
      "Accuracy: 90.89%\n"
     ]
    }
   ],
   "source": [
    "results = confusion_matrix(y_test, predictions) # Calculate confusion matrix and display AUC and Accuracy\n",
    "print(results)\n",
    "print('AUC: ', roc_auc_score(y_test, predictions))\n",
    "print('Accuracy: %.2f%%' % (accuracy_score(y_test, predictions) * 100))"
   ]
  },
  {
   "cell_type": "markdown",
   "metadata": {},
   "source": [
    "Using coefficeints to check the features again with n-grams. If you observe, our predictions about coefficients with n-grams has now GREATLY improved over Logistic regression with TD-IDF."
   ]
  },
  {
   "cell_type": "code",
   "execution_count": 23,
   "metadata": {},
   "outputs": [
    {
     "name": "stdout",
     "output_type": "stream",
     "text": [
      "Smallest Coef: \n",
      "['and simple' 'drip and' 'dishwasher br' 'destruction' 'bit taller'\n",
      " 'digital readouts' 'and simply' 'charm so' 'crack at' 'and silver']\n",
      "\n",
      "Largest Coef: \n",
      "['convinced' 'br broiler' 'are intuitive' 'customer comments' 'care for'\n",
      " 'batteries are' 'about seven' 'crushes' 'back can' 'care since']\n",
      "\n"
     ]
    }
   ],
   "source": [
    "feature_names = np.array(vect.get_feature_names()) # Get the smallest and highest co-efficients.\n",
    "sorted_coef_index = model.coef_[0].argsort()\n",
    "print('Smallest Coef: \\n{}\\n'.format(feature_names[sorted_coef_index][:10]))\n",
    "print('Largest Coef: \\n{}\\n'.format(feature_names[sorted_coef_index][:-11:-1]))"
   ]
  },
  {
   "cell_type": "markdown",
   "metadata": {},
   "source": [
    "Lets see with an example to show how this model works"
   ]
  },
  {
   "cell_type": "code",
   "execution_count": 24,
   "metadata": {},
   "outputs": [
    {
     "data": {
      "text/plain": [
       "array([0., 1.])"
      ]
     },
     "execution_count": 24,
     "metadata": {},
     "output_type": "execute_result"
    }
   ],
   "source": [
    "# Example to show how this model works\n",
    "model_ngram.predict(vect.transform(['The product is not good, I will never buy it again','The product is good, I will buy it again']))"
   ]
  },
  {
   "cell_type": "markdown",
   "metadata": {},
   "source": [
    "# Observation:\n",
    "1. The smallest and largest coefficeints have now greatly improved over just Logistic Regression and Logistic Regression with TF-IDF weights.\n",
    "2. Accuarcacy and AUC also have improved.\n",
    "3. True Positive counts in confusion matrix also have improved over previous models."
   ]
  },
  {
   "cell_type": "markdown",
   "metadata": {},
   "source": [
    "# Diplaying top 10 products that are most reviewed"
   ]
  },
  {
   "cell_type": "code",
   "execution_count": 25,
   "metadata": {},
   "outputs": [
    {
     "name": "stdout",
     "output_type": "stream",
     "text": [
      "Number of Unique Products= 11142\n",
      "Top 10 Reviewed Products:\n",
      "\n",
      "product_title\n",
      "GE MWF SmartWater Compatible Water Filter Cartridge - Refrigerator                       1230\n",
      "NewAir AI-100R 28-Pound Portable Icemaker, Red                                           1125\n",
      "SPT Countertop Dishwasher                                                                1031\n",
      "Koolatron Coke Personal Mini Fridge                                                      919 \n",
      "Danby 0.7 cu.ft. Countertop Microwave                                                    793 \n",
      "Avalon Bay Portable Ice Maker                                                            738 \n",
      "Broan 412402 ADA Capable Non-Ducted Under-Cabinet Range Hood                             690 \n",
      "Danby 120 Can Beverage Center, Stainless Steel DBC120BLS                                 661 \n",
      "The Laundry Alternative Wonderwash Non-electric Portable Compact Mini Washing Machine    612 \n",
      "Whirlpool Washer Lid Switch 3949238                                                      604 \n",
      "Name: star_rating, dtype: int64\n",
      "\n",
      "Most Reviewed Product - has 1230 reviews.\n"
     ]
    }
   ],
   "source": [
    "products = df['star_rating'].groupby(df['product_title']).count()\n",
    "print(\"Number of Unique Products= {}\".format(products.count()))\n",
    "\n",
    "top_products = products.sort_values(ascending=False)\n",
    "print(\"Top 10 Reviewed Products:\\n\")\n",
    "print(top_products[:10], end='\\n\\n')\n",
    "print('Most Reviewed Product - has {} reviews.'.format(products.max()))\n",
    "top_ten_products = top_products[:10]"
   ]
  },
  {
   "cell_type": "markdown",
   "metadata": {},
   "source": [
    "# Displaying our sentiment analysis of amazon appliance proudct reviews as a LIST view"
   ]
  },
  {
   "cell_type": "code",
   "execution_count": 26,
   "metadata": {
    "scrolled": false
   },
   "outputs": [
    {
     "name": "stdout",
     "output_type": "stream",
     "text": [
      "total reviews for Product GE MWF SmartWater Compatible Water Filter Cartridge - Refrigerator - has 1088 positive reviews and has 142 negative reviews.\n",
      "total reviews for Product NewAir AI-100R 28-Pound Portable Icemaker, Red - has 838 positive reviews and has 287 negative reviews.\n",
      "total reviews for Product SPT Countertop Dishwasher - has 874 positive reviews and has 157 negative reviews.\n",
      "total reviews for Product Koolatron Coke Personal Mini Fridge - has 616 positive reviews and has 303 negative reviews.\n",
      "total reviews for Product Danby 0.7 cu.ft. Countertop Microwave - has 599 positive reviews and has 194 negative reviews.\n",
      "total reviews for Product Avalon Bay Portable Ice Maker - has 611 positive reviews and has 127 negative reviews.\n",
      "total reviews for Product Broan 412402 ADA Capable Non-Ducted Under-Cabinet Range Hood - has 622 positive reviews and has 68 negative reviews.\n",
      "total reviews for Product Danby 120 Can Beverage Center, Stainless Steel DBC120BLS - has 467 positive reviews and has 194 negative reviews.\n",
      "total reviews for Product The Laundry Alternative Wonderwash Non-electric Portable Compact Mini Washing Machine - has 477 positive reviews and has 135 negative reviews.\n",
      "total reviews for Product Whirlpool Washer Lid Switch 3949238 - has 501 positive reviews and has 103 negative reviews.\n"
     ]
    },
    {
     "data": {
      "text/html": [
       "<div>\n",
       "<style scoped>\n",
       "    .dataframe tbody tr th:only-of-type {\n",
       "        vertical-align: middle;\n",
       "    }\n",
       "\n",
       "    .dataframe tbody tr th {\n",
       "        vertical-align: top;\n",
       "    }\n",
       "\n",
       "    .dataframe thead th {\n",
       "        text-align: right;\n",
       "    }\n",
       "</style>\n",
       "<table border=\"1\" class=\"dataframe\">\n",
       "  <thead>\n",
       "    <tr style=\"text-align: right;\">\n",
       "      <th></th>\n",
       "      <th>prod_id</th>\n",
       "      <th>prod_name</th>\n",
       "      <th>n_pos</th>\n",
       "      <th>n_neg</th>\n",
       "      <th>sample_pos</th>\n",
       "      <th>sample_neg</th>\n",
       "    </tr>\n",
       "  </thead>\n",
       "  <tbody>\n",
       "    <tr>\n",
       "      <th>0</th>\n",
       "      <td>B00KJ07SEM</td>\n",
       "      <td>GE MWF SmartWater Compatible Water Filter Cartridge - Refrigerator</td>\n",
       "      <td>1088</td>\n",
       "      <td>142</td>\n",
       "      <td>Just what i expected for a great price.</td>\n",
       "      <td>Disgusting! Too bad I can't give zero stars!</td>\n",
       "    </tr>\n",
       "    <tr>\n",
       "      <th>1</th>\n",
       "      <td>B0017Y3GGI</td>\n",
       "      <td>NewAir AI-100R 28-Pound Portable Icemaker, Red</td>\n",
       "      <td>838</td>\n",
       "      <td>287</td>\n",
       "      <td>I have just received my new ice maker and plan to use it on my boat.  I have read many of the reviews and I am optimistic that it will perform as advertised.  I read one review from a refrigeration person who recommended that it sit for 24 hours before plugging it in because he stated that refrigeration type products should always remain in the upright position.  Low and behold it was delivered upside down and the box states to remain upright.  Hopefully everything will workout just fine.</td>\n",
       "      <td>This one and all that look like it are the same ice makers by Phillips sold at Target. If you can get one year of use out of it you are lucky. My warranty replacement this weekend leaked all over the counter the first time I filled it.</td>\n",
       "    </tr>\n",
       "    <tr>\n",
       "      <th>2</th>\n",
       "      <td>B004MX8XO6</td>\n",
       "      <td>SPT Countertop Dishwasher</td>\n",
       "      <td>874</td>\n",
       "      <td>157</td>\n",
       "      <td>The dishwasher is just how it was described: small and compact, but functional.&lt;br /&gt;&lt;br /&gt;The instructions were very unclear and caused some subsequent stress while putting everything together.&lt;br /&gt;&lt;br /&gt;Overall, I am satisfied with the product.</td>\n",
       "      <td>Don't ignore the bad reviews like I did.  There was only a small proportion that gave this dishwasher a one star and the other reviews seemed so positive.  I loath washing dishes by hand and I was thrilled with this purchase until it leaked everywhere in my kitchen and ruined items around it.  We cannot find any obvious signs of leaks and it was installed properly.  The water seems to come from underneath.  We have tried running it empty and water just floods everywhere.</td>\n",
       "    </tr>\n",
       "    <tr>\n",
       "      <th>3</th>\n",
       "      <td>B000JLNBW4</td>\n",
       "      <td>Koolatron Coke Personal Mini Fridge</td>\n",
       "      <td>616</td>\n",
       "      <td>303</td>\n",
       "      <td>I bought this fridge for my boss so she could have a cold diet coke at her fingertips and not have to run to the vending machine every time she wants one.  She loves it.  It is really small and doesn't take up much space in her office.  I definitely recommend this product.</td>\n",
       "      <td>The unit was poor on two accounts:&lt;br /&gt;- temperature was never 'cold' - just cool&lt;br /&gt;- unit's cooling unit failed after three months of 24/7 use&lt;br /&gt;&lt;br /&gt;Looks good, but performed terribly.</td>\n",
       "    </tr>\n",
       "    <tr>\n",
       "      <th>4</th>\n",
       "      <td>B0052G14E8</td>\n",
       "      <td>Danby 0.7 cu.ft. Countertop Microwave</td>\n",
       "      <td>599</td>\n",
       "      <td>194</td>\n",
       "      <td>works</td>\n",
       "      <td>Item had tarnished spots on it. Not what I expected for the price. Looks very cheap.</td>\n",
       "    </tr>\n",
       "    <tr>\n",
       "      <th>5</th>\n",
       "      <td>B00IY7BNUW</td>\n",
       "      <td>Avalon Bay Portable Ice Maker</td>\n",
       "      <td>611</td>\n",
       "      <td>127</td>\n",
       "      <td>Thanks!</td>\n",
       "      <td>This ice maker works fine but the size of the ice itself is the disappointing problem. Very small n dilutes quickly naturally unfortunately</td>\n",
       "    </tr>\n",
       "    <tr>\n",
       "      <th>6</th>\n",
       "      <td>B0002YTM0I</td>\n",
       "      <td>Broan 412402 ADA Capable Non-Ducted Under-Cabinet Range Hood</td>\n",
       "      <td>622</td>\n",
       "      <td>68</td>\n",
       "      <td>Great price</td>\n",
       "      <td>Hood had 2 dents. Wasn't worth sending back for this price...what should we expect? Still, disappointed!</td>\n",
       "    </tr>\n",
       "    <tr>\n",
       "      <th>7</th>\n",
       "      <td>B002MPLYEW</td>\n",
       "      <td>Danby 120 Can Beverage Center, Stainless Steel DBC120BLS</td>\n",
       "      <td>467</td>\n",
       "      <td>194</td>\n",
       "      <td>We received the unit 2 weeks before the promised shipping date.  The size is what we wanted and looks great and will be a geat addition to our down stairs rec. room.</td>\n",
       "      <td>We purchased this fridge to go upstairs in our bonus room - it looks very nice and was a great price so I went for it.  We had it for about 3-3 1/2 weeks now, so I've had some time to &amp;#34;test it out&amp;#34;.  We have it placed on a little wooden stand that we built for it (so it wouldn't be directly on the carpet) and made sure it had plenty of ventilation in the back as the directions recommend.  We placed it in the corner of the room - probably 15-20ft away from where we sit.  The fridge is loud - so much so that it disrupts our TV watching. It buzzes loudly and the fan stays on for significant periods of time. Very disappointed with the purchase - lucky for us there is still a few days to return it.</td>\n",
       "    </tr>\n",
       "    <tr>\n",
       "      <th>8</th>\n",
       "      <td>B002C8HR9A</td>\n",
       "      <td>The Laundry Alternative Wonderwash Non-electric Portable Compact Mini Washing Machine</td>\n",
       "      <td>477</td>\n",
       "      <td>135</td>\n",
       "      <td>This wonder wash is so easy to crank it  practically turns itself.  The seal is tight and well made. Leave clothes soak for hours if needed or minutes. Great for hand washables, even your most delicate clothes.</td>\n",
       "      <td>I was excited to try it out. Bought one new from the Laundry Alternative. Sadly found out there are several items missing: knob on the lid, handle and drainage pipe. :(</td>\n",
       "    </tr>\n",
       "    <tr>\n",
       "      <th>9</th>\n",
       "      <td>B001DHKBXU</td>\n",
       "      <td>Whirlpool Washer Lid Switch 3949238</td>\n",
       "      <td>501</td>\n",
       "      <td>103</td>\n",
       "      <td>So far the switch has worked fine (3 weeks) and appeared to be of the same quality as the original factory switch. I would definitely recommend.</td>\n",
       "      <td>Product Failed in less than 3 months.  I would recommend not buying from SupplyEdge.  Maybe a different supplier's product will last longer.</td>\n",
       "    </tr>\n",
       "  </tbody>\n",
       "</table>\n",
       "</div>"
      ],
      "text/plain": [
       "      prod_id  \\\n",
       "0  B00KJ07SEM   \n",
       "1  B0017Y3GGI   \n",
       "2  B004MX8XO6   \n",
       "3  B000JLNBW4   \n",
       "4  B0052G14E8   \n",
       "5  B00IY7BNUW   \n",
       "6  B0002YTM0I   \n",
       "7  B002MPLYEW   \n",
       "8  B002C8HR9A   \n",
       "9  B001DHKBXU   \n",
       "\n",
       "                                                                               prod_name  \\\n",
       "0  GE MWF SmartWater Compatible Water Filter Cartridge - Refrigerator                      \n",
       "1  NewAir AI-100R 28-Pound Portable Icemaker, Red                                          \n",
       "2  SPT Countertop Dishwasher                                                               \n",
       "3  Koolatron Coke Personal Mini Fridge                                                     \n",
       "4  Danby 0.7 cu.ft. Countertop Microwave                                                   \n",
       "5  Avalon Bay Portable Ice Maker                                                           \n",
       "6  Broan 412402 ADA Capable Non-Ducted Under-Cabinet Range Hood                            \n",
       "7  Danby 120 Can Beverage Center, Stainless Steel DBC120BLS                                \n",
       "8  The Laundry Alternative Wonderwash Non-electric Portable Compact Mini Washing Machine   \n",
       "9  Whirlpool Washer Lid Switch 3949238                                                     \n",
       "\n",
       "  n_pos n_neg  \\\n",
       "0  1088  142    \n",
       "1  838   287    \n",
       "2  874   157    \n",
       "3  616   303    \n",
       "4  599   194    \n",
       "5  611   127    \n",
       "6  622   68     \n",
       "7  467   194    \n",
       "8  477   135    \n",
       "9  501   103    \n",
       "\n",
       "                                                                                                                                                                                                                                                                                                                                                                                                                                                                                                      sample_pos  \\\n",
       "0  Just what i expected for a great price.                                                                                                                                                                                                                                                                                                                                                                                                                                                                         \n",
       "1  I have just received my new ice maker and plan to use it on my boat.  I have read many of the reviews and I am optimistic that it will perform as advertised.  I read one review from a refrigeration person who recommended that it sit for 24 hours before plugging it in because he stated that refrigeration type products should always remain in the upright position.  Low and behold it was delivered upside down and the box states to remain upright.  Hopefully everything will workout just fine.   \n",
       "2  The dishwasher is just how it was described: small and compact, but functional.<br /><br />The instructions were very unclear and caused some subsequent stress while putting everything together.<br /><br />Overall, I am satisfied with the product.                                                                                                                                                                                                                                                         \n",
       "3  I bought this fridge for my boss so she could have a cold diet coke at her fingertips and not have to run to the vending machine every time she wants one.  She loves it.  It is really small and doesn't take up much space in her office.  I definitely recommend this product.                                                                                                                                                                                                                               \n",
       "4  works                                                                                                                                                                                                                                                                                                                                                                                                                                                                                                           \n",
       "5  Thanks!                                                                                                                                                                                                                                                                                                                                                                                                                                                                                                         \n",
       "6  Great price                                                                                                                                                                                                                                                                                                                                                                                                                                                                                                     \n",
       "7  We received the unit 2 weeks before the promised shipping date.  The size is what we wanted and looks great and will be a geat addition to our down stairs rec. room.                                                                                                                                                                                                                                                                                                                                           \n",
       "8  This wonder wash is so easy to crank it  practically turns itself.  The seal is tight and well made. Leave clothes soak for hours if needed or minutes. Great for hand washables, even your most delicate clothes.                                                                                                                                                                                                                                                                                              \n",
       "9  So far the switch has worked fine (3 weeks) and appeared to be of the same quality as the original factory switch. I would definitely recommend.                                                                                                                                                                                                                                                                                                                                                                \n",
       "\n",
       "                                                                                                                                                                                                                                                                                                                                                                                                                                                                                                                                                                                                                                                                                                                               sample_neg  \n",
       "0  Disgusting! Too bad I can't give zero stars!                                                                                                                                                                                                                                                                                                                                                                                                                                                                                                                                                                                                                                                                                            \n",
       "1  This one and all that look like it are the same ice makers by Phillips sold at Target. If you can get one year of use out of it you are lucky. My warranty replacement this weekend leaked all over the counter the first time I filled it.                                                                                                                                                                                                                                                                                                                                                                                                                                                                                             \n",
       "2  Don't ignore the bad reviews like I did.  There was only a small proportion that gave this dishwasher a one star and the other reviews seemed so positive.  I loath washing dishes by hand and I was thrilled with this purchase until it leaked everywhere in my kitchen and ruined items around it.  We cannot find any obvious signs of leaks and it was installed properly.  The water seems to come from underneath.  We have tried running it empty and water just floods everywhere.                                                                                                                                                                                                                                             \n",
       "3  The unit was poor on two accounts:<br />- temperature was never 'cold' - just cool<br />- unit's cooling unit failed after three months of 24/7 use<br /><br />Looks good, but performed terribly.                                                                                                                                                                                                                                                                                                                                                                                                                                                                                                                                      \n",
       "4  Item had tarnished spots on it. Not what I expected for the price. Looks very cheap.                                                                                                                                                                                                                                                                                                                                                                                                                                                                                                                                                                                                                                                    \n",
       "5  This ice maker works fine but the size of the ice itself is the disappointing problem. Very small n dilutes quickly naturally unfortunately                                                                                                                                                                                                                                                                                                                                                                                                                                                                                                                                                                                             \n",
       "6  Hood had 2 dents. Wasn't worth sending back for this price...what should we expect? Still, disappointed!                                                                                                                                                                                                                                                                                                                                                                                                                                                                                                                                                                                                                                \n",
       "7  We purchased this fridge to go upstairs in our bonus room - it looks very nice and was a great price so I went for it.  We had it for about 3-3 1/2 weeks now, so I've had some time to &#34;test it out&#34;.  We have it placed on a little wooden stand that we built for it (so it wouldn't be directly on the carpet) and made sure it had plenty of ventilation in the back as the directions recommend.  We placed it in the corner of the room - probably 15-20ft away from where we sit.  The fridge is loud - so much so that it disrupts our TV watching. It buzzes loudly and the fan stays on for significant periods of time. Very disappointed with the purchase - lucky for us there is still a few days to return it.  \n",
       "8  I was excited to try it out. Bought one new from the Laundry Alternative. Sadly found out there are several items missing: knob on the lid, handle and drainage pipe. :(                                                                                                                                                                                                                                                                                                                                                                                                                                                                                                                                                                \n",
       "9  Product Failed in less than 3 months.  I would recommend not buying from SupplyEdge.  Maybe a different supplier's product will last longer.                                                                                                                                                                                                                                                                                                                                                                                                                                                                                                                                                                                            "
      ]
     },
     "execution_count": 26,
     "metadata": {},
     "output_type": "execute_result"
    }
   ],
   "source": [
    "import random\n",
    "df_results = pd.DataFrame(columns=['prod_id','prod_name','n_pos','n_neg','sample_pos','sample_neg']);\n",
    "positive_reviews=[];\n",
    "negative_reviews=[];\n",
    "\n",
    "\n",
    "for product_title, value in top_ten_products.items():\n",
    "    title = df.loc[df['product_title']== product_title]\n",
    "    prod_ids = df[df['product_title'] == product_title]['product_id']\n",
    "    prod_id = prod_ids.iat[0]\n",
    "    reviews =  df[df['product_title'] == product_title]['review_body']\n",
    "    positive =0;\n",
    "    negative =0;    \n",
    "    negative_reviews.clear()\n",
    "    positive_reviews.clear()\n",
    "    for review in reviews:\n",
    "        if (model_ngram.predict(vect.transform([review,review])))[0] == 0 :\n",
    "            negative +=1;\n",
    "            negative_reviews.append(review);\n",
    "        else:\n",
    "            positive +=1;\n",
    "            positive_reviews.append(review);\n",
    "    \n",
    "    df_results = df_results.append({'prod_id' : prod_id, 'prod_name':title.iloc[0]['product_title'],'n_pos': positive, 'n_neg': negative, 'sample_pos':random.choice(positive_reviews), 'sample_neg':random.choice(negative_reviews)} , ignore_index=True)\n",
    "    print('total reviews for Product {} - has {} positive reviews and has {} negative reviews.'.format(product_title,positive,negative));\n",
    "df_results"
   ]
  },
  {
   "cell_type": "markdown",
   "metadata": {},
   "source": [
    "# Results of the product reviews in a Graph"
   ]
  },
  {
   "cell_type": "code",
   "execution_count": 27,
   "metadata": {},
   "outputs": [
    {
     "data": {
      "text/plain": [
       "<matplotlib.axes._subplots.AxesSubplot at 0x20e926545c0>"
      ]
     },
     "execution_count": 27,
     "metadata": {},
     "output_type": "execute_result"
    },
    {
     "data": {
      "image/png": "[encoded data removed]",
      "text/plain": [
       "<matplotlib.figure.Figure at 0x20e926ab710>"
      ]
     },
     "metadata": {},
     "output_type": "display_data"
    }
   ],
   "source": [
    "df_results.plot.bar(x='prod_name',rot=90) # Display results in a graph"
   ]
  },
  {
   "cell_type": "markdown",
   "metadata": {},
   "source": [
    "# Multinomial Naive Bayes\n",
    "1. Multionamial Navive Bayes is also believed to work well with test classification and word counts.\n",
    "2. Let's delve deep into the model as its tries to learn the data and predict.\n",
    "As we other models we follow the below workflow\n",
    "1. Take TF-IDF weights on the training set.\n",
    "2. Train and fit the model\n",
    "3. Predict on the test data.\n",
    "4. Calculate the performance of the model using AUC and Accuracy."
   ]
  },
  {
   "cell_type": "markdown",
   "metadata": {},
   "source": [
    "Bag of words represntation using CountVectorizer"
   ]
  },
  {
   "cell_type": "code",
   "execution_count": 28,
   "metadata": {},
   "outputs": [
    {
     "data": {
      "text/plain": [
       "<77512x44112 sparse matrix of type '<class 'numpy.int64'>'\n",
       "\twith 4055477 stored elements in Compressed Sparse Row format>"
      ]
     },
     "execution_count": 28,
     "metadata": {},
     "output_type": "execute_result"
    }
   ],
   "source": [
    "count_vect = CountVectorizer()\n",
    "X_train_counts = count_vect.fit_transform(X_train)\n",
    "X_train_counts "
   ]
  },
  {
   "cell_type": "markdown",
   "metadata": {},
   "source": [
    "Using TF-IDF weights to penalize commonly occurring words that add little value to our model."
   ]
  },
  {
   "cell_type": "code",
   "execution_count": 29,
   "metadata": {},
   "outputs": [],
   "source": [
    "from sklearn.feature_extraction.text import TfidfTransformer\n",
    "tfidf_transformer = TfidfTransformer()\n",
    "X_train_tfidf = tfidf_transformer.fit_transform(X_train_counts)"
   ]
  },
  {
   "cell_type": "markdown",
   "metadata": {},
   "source": [
    "The below does the follwowing:\n",
    "1. Train and fit the model multinomial Naive Bayes.\n",
    "2. Predict on the test data.\n",
    "3. Display confusion matrix, AUC and Accuracy."
   ]
  },
  {
   "cell_type": "code",
   "execution_count": 30,
   "metadata": {},
   "outputs": [
    {
     "name": "stdout",
     "output_type": "stream",
     "text": [
      "[[ 3660  2739]\n",
      " [  244 12736]]\n",
      "AUC:  0.7765831092155916\n",
      "Accuracy: 84.61%\n"
     ]
    }
   ],
   "source": [
    "from sklearn.naive_bayes import MultinomialNB\n",
    "clf = MultinomialNB().fit(X_train_tfidf,y_train) #Train and fit the model using decision tree.\n",
    "X_new_counts = count_vect.transform(X_test)\n",
    "X_new_tfidf = tfidf_transformer.transform(X_new_counts)\n",
    "predicted = clf.predict(X_new_tfidf)  # Predict on the test data\n",
    "results = confusion_matrix(y_test, predicted)  # Display confusion matrix, AUC and Accuracy.\n",
    "print(results)\n",
    "print('AUC: ', roc_auc_score(y_test, predicted))\n",
    "print('Accuracy: %.2f%%' % (accuracy_score(y_test, predicted) * 100))"
   ]
  },
  {
   "cell_type": "markdown",
   "metadata": {},
   "source": [
    "# Decision Trees\n",
    "Lets try one more model Decision tree and see which model amongst others works best. Decision tree also known to work best for categorical class labels by building tree-like model of decisions. As with other models, we will convert the text into feature vectors and use bag of words representation to train and fit the model. Evetually we will predict on the test data and calculate the performance metrics.\n",
    "As we other models we follow the below workflow\n",
    "\n",
    "1. Take TF-IDF weights on the training set.\n",
    "2. Train and fit the model\n",
    "3. Predict on the test data.\n",
    "4. Calculate the performance of the model using AUC and Accuracy."
   ]
  },
  {
   "cell_type": "markdown",
   "metadata": {},
   "source": [
    "Bag of words representation using CountVectorizer as feature vectors."
   ]
  },
  {
   "cell_type": "code",
   "execution_count": 31,
   "metadata": {},
   "outputs": [],
   "source": [
    "# Represent text as feature vectors\n",
    "count_vect = CountVectorizer()\n",
    "X_train_counts = count_vect.fit_transform(X_train) "
   ]
  },
  {
   "cell_type": "markdown",
   "metadata": {},
   "source": [
    "Using TF-IDF weights to penalize commonly occurring words that add little value to our model."
   ]
  },
  {
   "cell_type": "code",
   "execution_count": 32,
   "metadata": {},
   "outputs": [],
   "source": [
    "# This vectorizer breaks text into single words and then calculates the TF-IDF representation\n",
    "tfidf_transformer = TfidfTransformer() \n",
    "X_train_tfidf = tfidf_transformer.fit_transform(X_train_counts)"
   ]
  },
  {
   "cell_type": "markdown",
   "metadata": {},
   "source": [
    "The below does the follwowing:\n",
    "1. Train and fit the model using decision tree.\n",
    "2. Predict on the test data.\n",
    "3. Display confusion matrix, AUC and Accuracy."
   ]
  },
  {
   "cell_type": "code",
   "execution_count": 33,
   "metadata": {},
   "outputs": [
    {
     "name": "stdout",
     "output_type": "stream",
     "text": [
      "[[ 4326  2073]\n",
      " [ 1960 11020]]\n",
      "AUC:  0.7625207954536426\n",
      "Accuracy: 79.19%\n"
     ]
    }
   ],
   "source": [
    "from sklearn import tree\n",
    "clf = tree.DecisionTreeClassifier()\n",
    "clf = clf.fit(X_train_tfidf,y_train) #Train and fit the model using decision tree.\n",
    "predict = clf.predict(X_new_tfidf) # Predict the labels on the test data\n",
    "results = confusion_matrix(y_test, predict) #  Calculate the accuary of the model by showing confusion matrix, AUC and Accuracy.\n",
    "print(results)\n",
    "print('AUC: ', roc_auc_score(y_test, predict))\n",
    "print('Accuracy: %.2f%%' % (accuracy_score(y_test, predict) * 100))"
   ]
  },
  {
   "cell_type": "markdown",
   "metadata": {},
   "source": [
    "# RandomForestClassifier:\n",
    "Random forests creates decision trees on randomly selected data samples, gets prediction from each tree and selects the best solution by means of voting. \n",
    "As we other models we follow the below workflow\n",
    "1. Take TF-IDF weights on the training set.\n",
    "2. Train and fit the model\n",
    "3. Predict on the test data.\n",
    "4. Calculate the performance of the model using AUC and Accuracy."
   ]
  },
  {
   "cell_type": "code",
   "execution_count": 34,
   "metadata": {},
   "outputs": [
    {
     "name": "stdout",
     "output_type": "stream",
     "text": [
      "AUC:  0.8055667584327386\n",
      "Accuracy: 85.61%\n"
     ]
    }
   ],
   "source": [
    "#Import Random Forest Model\n",
    "from sklearn.ensemble import RandomForestClassifier\n",
    "\n",
    "# Bag of words representaion using feature vector and TF-IDF weights.\n",
    "X_new_counts = count_vect.transform(X_test)\n",
    "X_new_tfidf = tfidf_transformer.transform(X_new_counts)\n",
    "\n",
    "#Create a Gaussian Classifier\n",
    "rclf=RandomForestClassifier(n_estimators=50)\n",
    "\n",
    "#Train the model using the training sets y_pred=clf.predict(X_test)\n",
    "rclf.fit(X_train_tfidf,y_train)\n",
    "\n",
    "# Calculate the performance using AUC and Accuracy\n",
    "predicted = rclf.predict(X_new_tfidf)\n",
    "print('AUC: ', roc_auc_score(y_test, predicted))\n",
    "print('Accuracy: %.2f%%' % (accuracy_score(y_test, predicted) * 100))"
   ]
  },
  {
   "cell_type": "markdown",
   "metadata": {},
   "source": [
    "# Observation:\n",
    "1. So far we have used 6 models Logistic Regression, Logistic Regression with TF-IDF, Logistic regression with n-grams, Multinomial Naive Bayes, Decision Tree and Random Forest.\n",
    "2. Amongst all the models, Logistic regression with n-grams seemed to work best as it considers two words together that accounts for more meaning than a single word. Also, it accounted for highest accuracy of 90% and AUC of 0.89."
   ]
  },
  {
   "cell_type": "markdown",
   "metadata": {},
   "source": [
    "# Please check the sentiment using your own text\n",
    "This is the test area where a TA can use to test the sentiment  of a text"
   ]
  },
  {
   "cell_type": "code",
   "execution_count": 35,
   "metadata": {},
   "outputs": [
    {
     "data": {
      "application/vnd.jupyter.widget-view+json": {
       "model_id": "d972a8b207b4408ca5346a277fc3a0f0",
       "version_major": 2,
       "version_minor": 0
      },
      "text/html": [
       "<p>Failed to display Jupyter Widget of type <code>Text</code>.</p>\n",
       "<p>\n",
       "  If you're reading this message in the Jupyter Notebook or JupyterLab Notebook, it may mean\n",
       "  that the widgets JavaScript is still loading. If this message persists, it\n",
       "  likely means that the widgets JavaScript library is either not installed or\n",
       "  not enabled. See the <a href=\"https://ipywidgets.readthedocs.io/en/stable/user_install.html\">Jupyter\n",
       "  Widgets Documentation</a> for setup instructions.\n",
       "</p>\n",
       "<p>\n",
       "  If you're reading this message in another frontend (for example, a static\n",
       "  rendering on GitHub or <a href=\"https://nbviewer.jupyter.org/\">NBViewer</a>),\n",
       "  it may mean that your frontend doesn't currently support widgets.\n",
       "</p>\n"
      ],
      "text/plain": [
       "Text(value='', description='Input String:', placeholder='Type something')"
      ]
     },
     "metadata": {},
     "output_type": "display_data"
    }
   ],
   "source": [
    "import ipywidgets as widgets\n",
    "from IPython.display import display\n",
    "# widget to insert user data\n",
    "text = widgets.Text(  \n",
    "    placeholder='Type something',\n",
    "    description='Input String:',\n",
    "    disabled=False\n",
    ")\n",
    "display(text)\n",
    "\n",
    "def handle_submit(sender):\n",
    "    print(model_ngram.predict(vect.transform([text.value,]))) # Used Losgistic regression with n-grams to predict the text\n",
    "    \n",
    "text.on_submit(handle_submit)"
   ]
  },
  {
   "cell_type": "markdown",
   "metadata": {},
   "source": [
    "# Enhancement: Predict Star rating based on reviews:\n",
    " The above classifiers label the cusosmer review as positive or negative based on the sentiment in the text. In thsi particular enhacement will focus on predicting the rating based on the text entered by the user.\n",
    "    "
   ]
  },
  {
   "cell_type": "markdown",
   "metadata": {},
   "source": [
    "Display the review text and rating and display last 5 records."
   ]
  },
  {
   "cell_type": "code",
   "execution_count": 36,
   "metadata": {},
   "outputs": [
    {
     "data": {
      "text/html": [
       "<div>\n",
       "<style scoped>\n",
       "    .dataframe tbody tr th:only-of-type {\n",
       "        vertical-align: middle;\n",
       "    }\n",
       "\n",
       "    .dataframe tbody tr th {\n",
       "        vertical-align: top;\n",
       "    }\n",
       "\n",
       "    .dataframe thead th {\n",
       "        text-align: right;\n",
       "    }\n",
       "</style>\n",
       "<table border=\"1\" class=\"dataframe\">\n",
       "  <thead>\n",
       "    <tr style=\"text-align: right;\">\n",
       "      <th></th>\n",
       "      <th>review_body</th>\n",
       "      <th>star_rating</th>\n",
       "    </tr>\n",
       "  </thead>\n",
       "  <tbody>\n",
       "    <tr>\n",
       "      <th>96886</th>\n",
       "      <td>This is a pretty good dishwasher for the price.  It does a very good job cleaning very dirty items even on the normal cleaning cycle.  There is even an option to turn off the drying mode.  There is very little unused space, and the space is pretty well organized.&lt;br /&gt;If you have plates that are somewhat on the large size they might not fit very well into the dishwasher.  The instructions are less than adequate and extremely poorly written.  For example sink hook-ups (while pretty easy to figure out) are not even described.  Someone we know had their dishwasher fail (under warrenty) because of defective electronics.&lt;br /&gt;If you want a pretty inexpensive solution to washing your dishes in a small apartment this is a good one.  If you're looking for  a long term solution, a more expensive and larger standalone dishwasher may be a better option.</td>\n",
       "      <td>4</td>\n",
       "    </tr>\n",
       "    <tr>\n",
       "      <th>96887</th>\n",
       "      <td>I bought this for our office and was extremely dissatisfied with it. It stopped working after only 8 months of light use (storing our milk for coffee). Save yourself some grief and get a better known brand.</td>\n",
       "      <td>1</td>\n",
       "    </tr>\n",
       "    <tr>\n",
       "      <th>96888</th>\n",
       "      <td>When I saw this small dishwasher I thought it was a wonderful idea. I have a very small kitchen and think this would be a wonderful idea!! Kudos to the inventor.</td>\n",
       "      <td>5</td>\n",
       "    </tr>\n",
       "    <tr>\n",
       "      <th>96889</th>\n",
       "      <td>Probably the best small refrigerator on the market. It has a true freezer, It will keep ice cream really frozen in it's separate freezer. The drawback is that you have to flex the door retainer to get a 2 liter bottle in the door, It will fit however. The real advantage to this model is that it is self defrosting in the refregerator section!. If they had allowed better accomodation for 2 liter bottles it would deserve a 5.</td>\n",
       "      <td>4</td>\n",
       "    </tr>\n",
       "    <tr>\n",
       "      <th>96890</th>\n",
       "      <td>This is just a normal mid-sized refrigerater, but at a good price.  It  really doesn't do anything special.  It has no special qualities, but if  you want a boring old refrigerator I would recomend this recomend this  product.</td>\n",
       "      <td>3</td>\n",
       "    </tr>\n",
       "  </tbody>\n",
       "</table>\n",
       "</div>"
      ],
      "text/plain": [
       "                                                                                                                                                                                                                                                                                                                                                                                                                                                                                                                                                                                                                                                                                                                                                                                                                                                                                  review_body  \\\n",
       "96886  This is a pretty good dishwasher for the price.  It does a very good job cleaning very dirty items even on the normal cleaning cycle.  There is even an option to turn off the drying mode.  There is very little unused space, and the space is pretty well organized.<br />If you have plates that are somewhat on the large size they might not fit very well into the dishwasher.  The instructions are less than adequate and extremely poorly written.  For example sink hook-ups (while pretty easy to figure out) are not even described.  Someone we know had their dishwasher fail (under warrenty) because of defective electronics.<br />If you want a pretty inexpensive solution to washing your dishes in a small apartment this is a good one.  If you're looking for  a long term solution, a more expensive and larger standalone dishwasher may be a better option.   \n",
       "96887  I bought this for our office and was extremely dissatisfied with it. It stopped working after only 8 months of light use (storing our milk for coffee). Save yourself some grief and get a better known brand.                                                                                                                                                                                                                                                                                                                                                                                                                                                                                                                                                                                                                                                                           \n",
       "96888  When I saw this small dishwasher I thought it was a wonderful idea. I have a very small kitchen and think this would be a wonderful idea!! Kudos to the inventor.                                                                                                                                                                                                                                                                                                                                                                                                                                                                                                                                                                                                                                                                                                                        \n",
       "96889  Probably the best small refrigerator on the market. It has a true freezer, It will keep ice cream really frozen in it's separate freezer. The drawback is that you have to flex the door retainer to get a 2 liter bottle in the door, It will fit however. The real advantage to this model is that it is self defrosting in the refregerator section!. If they had allowed better accomodation for 2 liter bottles it would deserve a 5.                                                                                                                                                                                                                                                                                                                                                                                                                                               \n",
       "96890  This is just a normal mid-sized refrigerater, but at a good price.  It  really doesn't do anything special.  It has no special qualities, but if  you want a boring old refrigerator I would recomend this recomend this  product.                                                                                                                                                                                                                                                                                                                                                                                                                                                                                                                                                                                                                                                       \n",
       "\n",
       "       star_rating  \n",
       "96886  4            \n",
       "96887  1            \n",
       "96888  5            \n",
       "96889  4            \n",
       "96890  3            "
      ]
     },
     "execution_count": 36,
     "metadata": {},
     "output_type": "execute_result"
    }
   ],
   "source": [
    "df1 = df[['review_body','star_rating']] #Display the review text and rating and display last 5 records\n",
    "df1.tail()"
   ]
  },
  {
   "cell_type": "code",
   "execution_count": 37,
   "metadata": {},
   "outputs": [],
   "source": [
    "from sklearn.feature_extraction.text import TfidfVectorizer\n",
    "\n",
    "# This vectorizer breaks text into single words and bi-grams and then calculates the TF-IDF representation\n",
    "vectorizer = TfidfVectorizer(ngram_range=(1,2))\n",
    " \n",
    "# the 'fit' builds up the vocabulary from all the reviews\n",
    "# while the 'transform' step turns each indivdual text into\n",
    "# a matrix of numbers.\n",
    "vectors = vectorizer.fit_transform(df1['review_body'].fillna(' '))"
   ]
  },
  {
   "cell_type": "markdown",
   "metadata": {},
   "source": [
    "Split the data into test set and train set. We are giving a train set of 80% by setting the paramter of test_szie to 0.2"
   ]
  },
  {
   "cell_type": "code",
   "execution_count": 38,
   "metadata": {},
   "outputs": [],
   "source": [
    "train_X, test_X, train_y, test_y = train_test_split(vectors, df1['star_rating'], test_size=0.2, random_state=42)"
   ]
  },
  {
   "cell_type": "markdown",
   "metadata": {},
   "source": [
    "Normalizing the term frequcny counts to penalize some of the commonly used words that do not add value to our prediction.\n",
    "We are using bi-grams as two words grouped together will add more meaning to prediction than a single word. "
   ]
  },
  {
   "cell_type": "code",
   "execution_count": 39,
   "metadata": {},
   "outputs": [],
   "source": [
    "from sklearn.feature_extraction.text import TfidfVectorizer\n",
    "\n",
    "# This vectorizer breaks text into single words and bi-grams\n",
    "# and then calculates the TF-IDF representation\n",
    "vectorizer = TfidfVectorizer(ngram_range=(1,2))\n",
    " \n",
    "# the 'fit' builds up the vocabulary from all the reviews\n",
    "# whiletrain_X, test_X, train_y, test_y = train_test_split(vectors, df1['star_rating'], test_size=0.33, random_state=42) the 'transform' step turns each indivdual text into\n",
    "# a matrix of numbers.\n",
    "vectors = vectorizer.fit_transform(df1['review_body'].fillna(' '))"
   ]
  },
  {
   "cell_type": "markdown",
   "metadata": {},
   "source": [
    "Learn and fit the model using Linear SVC"
   ]
  },
  {
   "cell_type": "code",
   "execution_count": 40,
   "metadata": {},
   "outputs": [
    {
     "data": {
      "text/plain": [
       "LinearSVC(C=1.0, class_weight=None, dual=True, fit_intercept=True,\n",
       "     intercept_scaling=1, loss='squared_hinge', max_iter=1000,\n",
       "     multi_class='ovr', penalty='l2', random_state=None, tol=0.0001,\n",
       "     verbose=0)"
      ]
     },
     "execution_count": 40,
     "metadata": {},
     "output_type": "execute_result"
    }
   ],
   "source": [
    "from sklearn.svm import LinearSVC\n",
    " \n",
    "# initialise the SVM classifier\n",
    "classifier = LinearSVC()\n",
    " \n",
    "# train the classifier\n",
    "classifier.fit(train_X, train_y)"
   ]
  },
  {
   "cell_type": "markdown",
   "metadata": {},
   "source": [
    "Predict the classifier using test data and display the first 10 predictions and actual ratings.\n",
    "1. The fisrt row is the predition made by the classifier.\n",
    "2. The second row corresponds to the actual rating give to the review.\n",
    "3. The fifth review in our dataset classifier has predicted 5, but the actual rating is 4.\n",
    "4. Out of 10, the classifier predicted 7 as correct and 3 as incorrect, as its sometimes difficult for a computer to comprehend nuetrality or ambiguity of the text. But, overall the predictions are quite close."
   ]
  },
  {
   "cell_type": "code",
   "execution_count": 41,
   "metadata": {},
   "outputs": [
    {
     "name": "stdout",
     "output_type": "stream",
     "text": [
      "[1, 5, 5, 5, 5, 5, 4, 5, 5, 5]\n",
      "[1, 5, 5, 5, 4, 3, 3, 5, 5, 5]\n"
     ]
    }
   ],
   "source": [
    "predictions = classifier.predict(test_X) # Predict the classifier using test data\n",
    "print(list(predictions[:10])) # Predictions made by the model\n",
    "print(list(test_y[:10])) # Actual rating of the text"
   ]
  },
  {
   "cell_type": "markdown",
   "metadata": {},
   "source": [
    "Printing a review as an example. it rated as 1 based on the text in the customer review."
   ]
  },
  {
   "cell_type": "code",
   "execution_count": 42,
   "metadata": {},
   "outputs": [
    {
     "name": "stdout",
     "output_type": "stream",
     "text": [
      "[1 1]\n"
     ]
    }
   ],
   "source": [
    "print(classifier.predict(vectorizer.transform(['I bought this for our office and was extremely dissatisfied with it. It stopped working after only 8 months of light use (storing our milk for coffee). Save yourself some grief and get a better known brand','This is just a normal mid-sized refrigerater, but at a good price. It really doesnt do anything special. It has no special qualities, but if you want a boring old refrigerator I would recomend this recomend this product'])))"
   ]
  },
  {
   "cell_type": "markdown",
   "metadata": {},
   "source": [
    "Checking for the performance of the model by evaluating accuracy."
   ]
  },
  {
   "cell_type": "code",
   "execution_count": 43,
   "metadata": {},
   "outputs": [
    {
     "name": "stdout",
     "output_type": "stream",
     "text": [
      "0.7237215542597657\n"
     ]
    }
   ],
   "source": [
    "print(accuracy_score(test_y, predictions)) # calculate accuracy"
   ]
  },
  {
   "cell_type": "code",
   "execution_count": 44,
   "metadata": {},
   "outputs": [
    {
     "data": {
      "application/vnd.jupyter.widget-view+json": {
       "model_id": "036aded303784ca9be47a1f842e9825c",
       "version_major": 2,
       "version_minor": 0
      },
      "text/html": [
       "<p>Failed to display Jupyter Widget of type <code>Text</code>.</p>\n",
       "<p>\n",
       "  If you're reading this message in the Jupyter Notebook or JupyterLab Notebook, it may mean\n",
       "  that the widgets JavaScript is still loading. If this message persists, it\n",
       "  likely means that the widgets JavaScript library is either not installed or\n",
       "  not enabled. See the <a href=\"https://ipywidgets.readthedocs.io/en/stable/user_install.html\">Jupyter\n",
       "  Widgets Documentation</a> for setup instructions.\n",
       "</p>\n",
       "<p>\n",
       "  If you're reading this message in another frontend (for example, a static\n",
       "  rendering on GitHub or <a href=\"https://nbviewer.jupyter.org/\">NBViewer</a>),\n",
       "  it may mean that your frontend doesn't currently support widgets.\n",
       "</p>\n"
      ],
      "text/plain": [
       "Text(value='', description='Input String:', placeholder='Type something')"
      ]
     },
     "metadata": {},
     "output_type": "display_data"
    }
   ],
   "source": [
    "review_text = widgets.Text(\n",
    "    placeholder='Type something',\n",
    "    description='Input String:',\n",
    "    disabled=False\n",
    ")\n",
    "display(review_text)\n",
    "\n",
    "def handle_submit(sender):\n",
    "    print(classifier.predict(vectorizer.transform([review_text.value,])))\n",
    "    review_text.on_submit(handle_submit)"
   ]
  },
  {
   "cell_type": "markdown",
   "metadata": {},
   "source": [
    "References:\n",
    "    http://www.developintelligence.com/blog/2017/03/predicting-yelp-star-ratings-review-text-python/\n",
    "    https://datascienceplus.com/scikit-learn-for-text-analysis-of-amazon-fine-food-reviews/"
   ]
  },
  {
   "cell_type": "code",
   "execution_count": null,
   "metadata": {},
   "outputs": [],
   "source": []
  }
 ],
 "metadata": {
  "kernelspec": {
   "display_name": "Python 3",
   "language": "python",
   "name": "python3"
  },
  "language_info": {
   "codemirror_mode": {
    "name": "ipython",
    "version": 3
   },
   "file_extension": ".py",
   "mimetype": "text/x-python",
   "name": "python",
   "nbconvert_exporter": "python",
   "pygments_lexer": "ipython3",
   "version": "3.6.4"
  }
 },
 "nbformat": 4,
 "nbformat_minor": 2
}
